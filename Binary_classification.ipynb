{
  "nbformat": 4,
  "nbformat_minor": 0,
  "metadata": {
    "colab": {
      "name": "Binary_classification.ipynb",
      "version": "0.3.2",
      "provenance": [],
      "collapsed_sections": [],
      "include_colab_link": true
    },
    "kernelspec": {
      "name": "python3",
      "display_name": "Python 3"
    },
    "accelerator": "GPU"
  },
  "cells": [
    {
      "cell_type": "markdown",
      "metadata": {
        "id": "view-in-github",
        "colab_type": "text"
      },
      "source": [
        "<a href=\"https://colab.research.google.com/github/5amessi/Binary-Classification/blob/master/Binary_classification.ipynb\" target=\"_parent\"><img src=\"https://colab.research.google.com/assets/colab-badge.svg\" alt=\"Open In Colab\"/></a>"
      ]
    },
    {
      "cell_type": "code",
      "metadata": {
        "id": "gho7i50qtAlD",
        "colab_type": "code",
        "colab": {
          "base_uri": "https://localhost:8080/",
          "height": 34
        },
        "outputId": "6e41875d-7faf-4fd8-85a2-169ec8ca32e7"
      },
      "source": [
        "from google.colab import drive\n",
        "drive.mount('/content/gdrive')"
      ],
      "execution_count": 1,
      "outputs": [
        {
          "output_type": "stream",
          "text": [
            "Drive already mounted at /content/gdrive; to attempt to forcibly remount, call drive.mount(\"/content/gdrive\", force_remount=True).\n"
          ],
          "name": "stdout"
        }
      ]
    },
    {
      "cell_type": "code",
      "metadata": {
        "id": "paj747eBLLTq",
        "colab_type": "code",
        "colab": {
          "base_uri": "https://localhost:8080/",
          "height": 88
        },
        "outputId": "e51c3a69-01bb-4bce-db01-aaf3624a8852"
      },
      "source": [
        "import math\n",
        "import numpy\n",
        "import matplotlib.pyplot as plt\n",
        "from pandas import read_csv\n",
        "from keras.models import Sequential\n",
        "from keras import regularizers\n",
        "from keras.layers import *\n",
        "from sklearn.preprocessing import MinMaxScaler\n",
        "from sklearn.metrics import mean_squared_error\n",
        "from keras.optimizers import RMSprop\n",
        "from keras.initializers import glorot_uniform, glorot_normal, RandomUniform\n",
        "import sys\n",
        "import pandas as pd\n",
        "import numpy as np\n",
        "from sklearn.preprocessing import MinMaxScaler, StandardScaler\n",
        "from datetime import timedelta\n",
        "from sklearn.externals import joblib \n",
        "import datetime"
      ],
      "execution_count": 2,
      "outputs": [
        {
          "output_type": "stream",
          "text": [
            "Using TensorFlow backend.\n",
            "/usr/local/lib/python3.6/dist-packages/sklearn/externals/joblib/__init__.py:15: DeprecationWarning: sklearn.externals.joblib is deprecated in 0.21 and will be removed in 0.23. Please import this functionality directly from joblib, which can be installed with: pip install joblib. If this warning is raised when loading pickled models, you may need to re-serialize those models with scikit-learn 0.21+.\n",
            "  warnings.warn(msg, category=DeprecationWarning)\n"
          ],
          "name": "stderr"
        }
      ]
    },
    {
      "cell_type": "code",
      "metadata": {
        "id": "Hqo62vqzxzWg",
        "colab_type": "code",
        "colab": {}
      },
      "source": [
        "def Clean(data,valid = False):\n",
        "  data2 = data.index\n",
        "  data = data.values\n",
        "  new_data = []\n",
        "  for i in range(len(data)):\n",
        "    if(str(data[i][0]) == str(1e400*0)):\n",
        "      if(str(data2[i][-1]) != str(1e400*0)):\n",
        "        new_line3 = list(map(str,data2[i][2].split(';')))   \n",
        "        if len(new_line3) == 17:\n",
        "          new_line1 = list(map(str,data2[i][0].split(';')))\n",
        "          new_line2 = list(map(str,data2[i][1].split(';')))\n",
        "          new_data.append(new_line1 + new_line2 + new_line3[:6]+['']+new_line3[6:]) \n",
        "          pass\n",
        "        pass\n",
        "      pass\n",
        "    else:\n",
        "      new_line1 = list(map(str,data2[i][0].split(';')))\n",
        "      new_line2 = list(map(str,data2[i][1].split(';')))\n",
        "      new_line3 = list(map(str,data2[i][2].split(';')))      \n",
        "      new_line4 = list(map(str,data[i][0].split(';')))\n",
        "      \n",
        "      new_data.append(new_line1 + new_line2 + new_line3 + new_line4)\n",
        "#       print(new_line1 + new_line2 + new_line3 + new_line4)\n",
        "  data = pd.DataFrame(new_data,columns=['v0','v1','v2','v3','v4','v5','v6','v7','v8','v9','v10','v11','v12','v13','v14','v15','v16','v17','v18','v19','v20','target'])\n",
        "  data.to_csv(\"data.csv\",index=False)\n",
        "  data = pd.read_csv(\"/content/data.csv\")\n",
        "  return data\n"
      ],
      "execution_count": 0,
      "outputs": []
    },
    {
      "cell_type": "code",
      "metadata": {
        "id": "gxYFJ2jhjss9",
        "colab_type": "code",
        "outputId": "63eb1275-8efc-4d8b-cd31-a63022abc6da",
        "colab": {
          "base_uri": "https://localhost:8080/",
          "height": 238
        }
      },
      "source": [
        "data = pd.read_csv(\"/content/gdrive/My Drive/Colab Notebooks/binary_classification/training.csv\")\n",
        "print(len(data))\n",
        "data = Clean(data)\n",
        "print(len(data))\n",
        "data.head()\n"
      ],
      "execution_count": 117,
      "outputs": [
        {
          "output_type": "stream",
          "text": [
            "3700\n",
            "2685\n"
          ],
          "name": "stdout"
        },
        {
          "output_type": "execute_result",
          "data": {
            "text/html": [
              "<div>\n",
              "<style scoped>\n",
              "    .dataframe tbody tr th:only-of-type {\n",
              "        vertical-align: middle;\n",
              "    }\n",
              "\n",
              "    .dataframe tbody tr th {\n",
              "        vertical-align: top;\n",
              "    }\n",
              "\n",
              "    .dataframe thead th {\n",
              "        text-align: right;\n",
              "    }\n",
              "</style>\n",
              "<table border=\"1\" class=\"dataframe\">\n",
              "  <thead>\n",
              "    <tr style=\"text-align: right;\">\n",
              "      <th></th>\n",
              "      <th>v0</th>\n",
              "      <th>v1</th>\n",
              "      <th>v2</th>\n",
              "      <th>v3</th>\n",
              "      <th>v4</th>\n",
              "      <th>v5</th>\n",
              "      <th>v6</th>\n",
              "      <th>v7</th>\n",
              "      <th>v8</th>\n",
              "      <th>v9</th>\n",
              "      <th>v10</th>\n",
              "      <th>v11</th>\n",
              "      <th>v12</th>\n",
              "      <th>v13</th>\n",
              "      <th>v14</th>\n",
              "      <th>v15</th>\n",
              "      <th>v16</th>\n",
              "      <th>v17</th>\n",
              "      <th>v18</th>\n",
              "      <th>v19</th>\n",
              "      <th>v20</th>\n",
              "      <th>target</th>\n",
              "    </tr>\n",
              "  </thead>\n",
              "  <tbody>\n",
              "    <tr>\n",
              "      <th>0</th>\n",
              "      <td>a</td>\n",
              "      <td>17</td>\n",
              "      <td>92</td>\n",
              "      <td>5</td>\n",
              "      <td>0.00004</td>\n",
              "      <td>\"u\"</td>\n",
              "      <td>\"g\"</td>\n",
              "      <td>\"c\"</td>\n",
              "      <td>\"v\"</td>\n",
              "      <td>1</td>\n",
              "      <td>75.0</td>\n",
              "      <td>\"f\"</td>\n",
              "      <td>\"t\"</td>\n",
              "      <td>1</td>\n",
              "      <td>\"t\"</td>\n",
              "      <td>\"g\"</td>\n",
              "      <td>80.0</td>\n",
              "      <td>5</td>\n",
              "      <td>800000.0</td>\n",
              "      <td>\"t\"</td>\n",
              "      <td>0</td>\n",
              "      <td>\"no.\"</td>\n",
              "    </tr>\n",
              "    <tr>\n",
              "      <th>1</th>\n",
              "      <td>b</td>\n",
              "      <td>16</td>\n",
              "      <td>92</td>\n",
              "      <td>3</td>\n",
              "      <td>0.00035</td>\n",
              "      <td>\"y\"</td>\n",
              "      <td>\"p\"</td>\n",
              "      <td>\"k\"</td>\n",
              "      <td>\"v\"</td>\n",
              "      <td>0</td>\n",
              "      <td>29.0</td>\n",
              "      <td>\"f\"</td>\n",
              "      <td>\"f\"</td>\n",
              "      <td>0</td>\n",
              "      <td>\"f\"</td>\n",
              "      <td>\"s\"</td>\n",
              "      <td>200.0</td>\n",
              "      <td>0</td>\n",
              "      <td>2000000.0</td>\n",
              "      <td>NaN</td>\n",
              "      <td>0</td>\n",
              "      <td>\"no.\"</td>\n",
              "    </tr>\n",
              "    <tr>\n",
              "      <th>2</th>\n",
              "      <td>b</td>\n",
              "      <td>31</td>\n",
              "      <td>25</td>\n",
              "      <td>0</td>\n",
              "      <td>1125.00000</td>\n",
              "      <td>\"u\"</td>\n",
              "      <td>\"g\"</td>\n",
              "      <td>\"ff\"</td>\n",
              "      <td>\"ff\"</td>\n",
              "      <td>0</td>\n",
              "      <td>NaN</td>\n",
              "      <td>\"f\"</td>\n",
              "      <td>\"t\"</td>\n",
              "      <td>1</td>\n",
              "      <td>\"f\"</td>\n",
              "      <td>\"g\"</td>\n",
              "      <td>96.0</td>\n",
              "      <td>19</td>\n",
              "      <td>960000.0</td>\n",
              "      <td>\"t\"</td>\n",
              "      <td>0</td>\n",
              "      <td>\"no.\"</td>\n",
              "    </tr>\n",
              "    <tr>\n",
              "      <th>3</th>\n",
              "      <td>a</td>\n",
              "      <td>48</td>\n",
              "      <td>17</td>\n",
              "      <td>0</td>\n",
              "      <td>1335.00000</td>\n",
              "      <td>\"u\"</td>\n",
              "      <td>\"g\"</td>\n",
              "      <td>\"i\"</td>\n",
              "      <td>\"o\"</td>\n",
              "      <td>0</td>\n",
              "      <td>335.0</td>\n",
              "      <td>\"f\"</td>\n",
              "      <td>\"f\"</td>\n",
              "      <td>0</td>\n",
              "      <td>\"f\"</td>\n",
              "      <td>\"g\"</td>\n",
              "      <td>0.0</td>\n",
              "      <td>120</td>\n",
              "      <td>0.0</td>\n",
              "      <td>NaN</td>\n",
              "      <td>0</td>\n",
              "      <td>\"no.\"</td>\n",
              "    </tr>\n",
              "    <tr>\n",
              "      <th>4</th>\n",
              "      <td>b</td>\n",
              "      <td>32</td>\n",
              "      <td>33</td>\n",
              "      <td>0</td>\n",
              "      <td>35.00000</td>\n",
              "      <td>\"u\"</td>\n",
              "      <td>\"g\"</td>\n",
              "      <td>\"k\"</td>\n",
              "      <td>\"v\"</td>\n",
              "      <td>0</td>\n",
              "      <td>5.0</td>\n",
              "      <td>\"f\"</td>\n",
              "      <td>\"f\"</td>\n",
              "      <td>0</td>\n",
              "      <td>\"t\"</td>\n",
              "      <td>\"g\"</td>\n",
              "      <td>232.0</td>\n",
              "      <td>0</td>\n",
              "      <td>2320000.0</td>\n",
              "      <td>\"f\"</td>\n",
              "      <td>0</td>\n",
              "      <td>\"no.\"</td>\n",
              "    </tr>\n",
              "  </tbody>\n",
              "</table>\n",
              "</div>"
            ],
            "text/plain": [
              "  v0  v1  v2  v3          v4   v5  ...    v16  v17        v18  v19  v20 target\n",
              "0  a  17  92   5     0.00004  \"u\"  ...   80.0    5   800000.0  \"t\"    0  \"no.\"\n",
              "1  b  16  92   3     0.00035  \"y\"  ...  200.0    0  2000000.0  NaN    0  \"no.\"\n",
              "2  b  31  25   0  1125.00000  \"u\"  ...   96.0   19   960000.0  \"t\"    0  \"no.\"\n",
              "3  a  48  17   0  1335.00000  \"u\"  ...    0.0  120        0.0  NaN    0  \"no.\"\n",
              "4  b  32  33   0    35.00000  \"u\"  ...  232.0    0  2320000.0  \"f\"    0  \"no.\"\n",
              "\n",
              "[5 rows x 22 columns]"
            ]
          },
          "metadata": {
            "tags": []
          },
          "execution_count": 117
        }
      ]
    },
    {
      "cell_type": "code",
      "metadata": {
        "id": "b9I2RHO4iZzQ",
        "colab_type": "code",
        "outputId": "046f2fcf-ed84-4d21-b8a7-b7cee551e174",
        "colab": {
          "base_uri": "https://localhost:8080/",
          "height": 340
        }
      },
      "source": [
        "for i in data:\n",
        "  if (len(data[i].unique()) < 50):\n",
        "    print(i,data[i].unique())"
      ],
      "execution_count": 119,
      "outputs": [
        {
          "output_type": "stream",
          "text": [
            "v0 ['a' 'b' nan]\n",
            "v2 [92 25 17 33 83 75 58 67 42  5  8]\n",
            "v3 [5 3 0 8 7 2 6 4 1 9]\n",
            "v5 ['\"u\"' '\"y\"' '\"l\"']\n",
            "v6 ['\"g\"' '\"p\"' '\"gg\"']\n",
            "v7 ['\"c\"' '\"k\"' '\"ff\"' '\"i\"' '\"q\"' '\"W\"' '\"d\"' '\"aa\"' '\"cc\"' '\"r\"' '\"m\"'\n",
            " '\"j\"' '\"e\"' nan '\"x\"']\n",
            "v8 ['\"v\"' '\"ff\"' '\"o\"' '\"h\"' '\"bb\"' '\"z\"' nan '\"dd\"' '\"n\"' '\"j\"']\n",
            "v9 [ 1  0  2  5  4  6  3  8 15 14  7  9 12 13 10 16 17 28 20 11 18]\n",
            "v10 [ 75.  29.  nan 335.   5.  25.  85. 165.   4. 585. 375. 125. 415. 665.\n",
            "  21.  58.  71.  46. 625.  54. 835. 875.  96.  17.]\n",
            "v11 ['\"f\"' '\"t\"']\n",
            "v12 ['\"t\"' '\"f\"']\n",
            "v13 [ 1  0  2  3  5 15 20 11 12  9  4 14  7  6 16  8 10 13 67 40 17]\n",
            "v14 ['\"t\"' '\"f\"']\n",
            "v15 ['\"g\"' '\"s\"' '\"p\"']\n",
            "v19 ['\"t\"' nan '\"f\"']\n",
            "v20 [0 1]\n",
            "target ['\"no.\"' '\"yes.\"']\n"
          ],
          "name": "stdout"
        }
      ]
    },
    {
      "cell_type": "code",
      "metadata": {
        "id": "g8Z5d9MTJpSm",
        "colab_type": "code",
        "colab": {}
      },
      "source": [
        "def Prepare(data):\n",
        "  data['v0'] = data['v0'].fillna(50)\n",
        "  data['v7'] = data['v7'].fillna(50)\n",
        "  data['v8'] = data['v8'].fillna(50)\n",
        "  data['v19'] = data['v19'].fillna(50)\n",
        "  \n",
        "  for i in range(len(data['v0'].unique())):\n",
        "    data['v0'] = data['v0'].replace(data['v0'].unique()[i],i)\n",
        "  \n",
        "  for i in range(len(data['v5'].unique())):\n",
        "    data['v5'] = data['v5'].replace(data['v5'].unique()[i],i)\n",
        "\n",
        "  for i in range(len(data['v6'].unique())):\n",
        "    data['v6'] = data['v6'].replace(data['v6'].unique()[i],i)\n",
        "\n",
        "  for i in range(len(data['v7'].unique())):\n",
        "    data['v7'] = data['v7'].replace(data['v7'].unique()[i],i)\n",
        "\n",
        "  for i in range(len(data['v8'].unique())):\n",
        "    data['v8'] = data['v8'].replace(data['v8'].unique()[i],i)\n",
        "    \n",
        "  for i in range(len(data['v11'].unique())):\n",
        "    data['v11'] = data['v11'].replace(data['v11'].unique()[i],i)\n",
        "    \n",
        "  for i in range(len(data['v12'].unique())):\n",
        "    data['v12'] = data['v12'].replace(data['v12'].unique()[i],i)\n",
        "    \n",
        "  for i in range(len(data['v14'].unique())):\n",
        "    data['v14'] = data['v14'].replace(data['v14'].unique()[i],i)\n",
        "    \n",
        "  for i in range(len(data['v15'].unique())):\n",
        "    data['v15'] = data['v15'].replace(data['v15'].unique()[i],i)\n",
        "    \n",
        "  for i in range(len(data['v19'].unique())):\n",
        "    data['v19'] = data['v19'].replace(data['v19'].unique()[i],i)\n",
        "    \n",
        "  for i in range(len(data['target'].unique())):\n",
        "    data['target'] = data['target'].replace(data['target'].unique()[i],i)\n",
        "  data = data.fillna(data.mean())\n",
        "  return data"
      ],
      "execution_count": 0,
      "outputs": []
    },
    {
      "cell_type": "code",
      "metadata": {
        "id": "-MDFkGN3LCwv",
        "colab_type": "code",
        "outputId": "4da9ff03-ae10-4ba9-cfc6-81678e246c2f",
        "colab": {
          "base_uri": "https://localhost:8080/",
          "height": 204
        }
      },
      "source": [
        "data = Prepare(data)\n",
        "data.head()"
      ],
      "execution_count": 121,
      "outputs": [
        {
          "output_type": "execute_result",
          "data": {
            "text/html": [
              "<div>\n",
              "<style scoped>\n",
              "    .dataframe tbody tr th:only-of-type {\n",
              "        vertical-align: middle;\n",
              "    }\n",
              "\n",
              "    .dataframe tbody tr th {\n",
              "        vertical-align: top;\n",
              "    }\n",
              "\n",
              "    .dataframe thead th {\n",
              "        text-align: right;\n",
              "    }\n",
              "</style>\n",
              "<table border=\"1\" class=\"dataframe\">\n",
              "  <thead>\n",
              "    <tr style=\"text-align: right;\">\n",
              "      <th></th>\n",
              "      <th>v0</th>\n",
              "      <th>v1</th>\n",
              "      <th>v2</th>\n",
              "      <th>v3</th>\n",
              "      <th>v4</th>\n",
              "      <th>v5</th>\n",
              "      <th>v6</th>\n",
              "      <th>v7</th>\n",
              "      <th>v8</th>\n",
              "      <th>v9</th>\n",
              "      <th>v10</th>\n",
              "      <th>v11</th>\n",
              "      <th>v12</th>\n",
              "      <th>v13</th>\n",
              "      <th>v14</th>\n",
              "      <th>v15</th>\n",
              "      <th>v16</th>\n",
              "      <th>v17</th>\n",
              "      <th>v18</th>\n",
              "      <th>v19</th>\n",
              "      <th>v20</th>\n",
              "      <th>target</th>\n",
              "    </tr>\n",
              "  </thead>\n",
              "  <tbody>\n",
              "    <tr>\n",
              "      <th>0</th>\n",
              "      <td>0</td>\n",
              "      <td>17</td>\n",
              "      <td>92</td>\n",
              "      <td>5</td>\n",
              "      <td>0.00004</td>\n",
              "      <td>0</td>\n",
              "      <td>0</td>\n",
              "      <td>0</td>\n",
              "      <td>0</td>\n",
              "      <td>1</td>\n",
              "      <td>75.000000</td>\n",
              "      <td>0</td>\n",
              "      <td>0</td>\n",
              "      <td>1</td>\n",
              "      <td>0</td>\n",
              "      <td>0</td>\n",
              "      <td>80.0</td>\n",
              "      <td>5</td>\n",
              "      <td>800000.0</td>\n",
              "      <td>0</td>\n",
              "      <td>0</td>\n",
              "      <td>0</td>\n",
              "    </tr>\n",
              "    <tr>\n",
              "      <th>1</th>\n",
              "      <td>1</td>\n",
              "      <td>16</td>\n",
              "      <td>92</td>\n",
              "      <td>3</td>\n",
              "      <td>0.00035</td>\n",
              "      <td>1</td>\n",
              "      <td>1</td>\n",
              "      <td>1</td>\n",
              "      <td>0</td>\n",
              "      <td>0</td>\n",
              "      <td>29.000000</td>\n",
              "      <td>0</td>\n",
              "      <td>1</td>\n",
              "      <td>0</td>\n",
              "      <td>1</td>\n",
              "      <td>1</td>\n",
              "      <td>200.0</td>\n",
              "      <td>0</td>\n",
              "      <td>2000000.0</td>\n",
              "      <td>1</td>\n",
              "      <td>0</td>\n",
              "      <td>0</td>\n",
              "    </tr>\n",
              "    <tr>\n",
              "      <th>2</th>\n",
              "      <td>1</td>\n",
              "      <td>31</td>\n",
              "      <td>25</td>\n",
              "      <td>0</td>\n",
              "      <td>1125.00000</td>\n",
              "      <td>0</td>\n",
              "      <td>0</td>\n",
              "      <td>2</td>\n",
              "      <td>1</td>\n",
              "      <td>0</td>\n",
              "      <td>160.949726</td>\n",
              "      <td>0</td>\n",
              "      <td>0</td>\n",
              "      <td>1</td>\n",
              "      <td>1</td>\n",
              "      <td>0</td>\n",
              "      <td>96.0</td>\n",
              "      <td>19</td>\n",
              "      <td>960000.0</td>\n",
              "      <td>0</td>\n",
              "      <td>0</td>\n",
              "      <td>0</td>\n",
              "    </tr>\n",
              "    <tr>\n",
              "      <th>3</th>\n",
              "      <td>0</td>\n",
              "      <td>48</td>\n",
              "      <td>17</td>\n",
              "      <td>0</td>\n",
              "      <td>1335.00000</td>\n",
              "      <td>0</td>\n",
              "      <td>0</td>\n",
              "      <td>3</td>\n",
              "      <td>2</td>\n",
              "      <td>0</td>\n",
              "      <td>335.000000</td>\n",
              "      <td>0</td>\n",
              "      <td>1</td>\n",
              "      <td>0</td>\n",
              "      <td>1</td>\n",
              "      <td>0</td>\n",
              "      <td>0.0</td>\n",
              "      <td>120</td>\n",
              "      <td>0.0</td>\n",
              "      <td>1</td>\n",
              "      <td>0</td>\n",
              "      <td>0</td>\n",
              "    </tr>\n",
              "    <tr>\n",
              "      <th>4</th>\n",
              "      <td>1</td>\n",
              "      <td>32</td>\n",
              "      <td>33</td>\n",
              "      <td>0</td>\n",
              "      <td>35.00000</td>\n",
              "      <td>0</td>\n",
              "      <td>0</td>\n",
              "      <td>1</td>\n",
              "      <td>0</td>\n",
              "      <td>0</td>\n",
              "      <td>5.000000</td>\n",
              "      <td>0</td>\n",
              "      <td>1</td>\n",
              "      <td>0</td>\n",
              "      <td>0</td>\n",
              "      <td>0</td>\n",
              "      <td>232.0</td>\n",
              "      <td>0</td>\n",
              "      <td>2320000.0</td>\n",
              "      <td>2</td>\n",
              "      <td>0</td>\n",
              "      <td>0</td>\n",
              "    </tr>\n",
              "  </tbody>\n",
              "</table>\n",
              "</div>"
            ],
            "text/plain": [
              "   v0  v1  v2  v3          v4  v5  ...    v16  v17        v18  v19  v20  target\n",
              "0   0  17  92   5     0.00004   0  ...   80.0    5   800000.0    0    0       0\n",
              "1   1  16  92   3     0.00035   1  ...  200.0    0  2000000.0    1    0       0\n",
              "2   1  31  25   0  1125.00000   0  ...   96.0   19   960000.0    0    0       0\n",
              "3   0  48  17   0  1335.00000   0  ...    0.0  120        0.0    1    0       0\n",
              "4   1  32  33   0    35.00000   0  ...  232.0    0  2320000.0    2    0       0\n",
              "\n",
              "[5 rows x 22 columns]"
            ]
          },
          "metadata": {
            "tags": []
          },
          "execution_count": 121
        }
      ]
    },
    {
      "cell_type": "code",
      "metadata": {
        "id": "-kkvzmYXnFel",
        "colab_type": "code",
        "outputId": "24995fba-e3d0-4b2a-9d6e-c86b720400e2",
        "colab": {
          "base_uri": "https://localhost:8080/",
          "height": 34
        }
      },
      "source": [
        "y = data['target']\n",
        "x = data.drop(['target'],axis=1)\n",
        "x.shape,y.shape"
      ],
      "execution_count": 122,
      "outputs": [
        {
          "output_type": "execute_result",
          "data": {
            "text/plain": [
              "((2685, 21), (2685,))"
            ]
          },
          "metadata": {
            "tags": []
          },
          "execution_count": 122
        }
      ]
    },
    {
      "cell_type": "code",
      "metadata": {
        "colab_type": "code",
        "id": "IeVERE-inO9w",
        "outputId": "2ac4d979-a354-40a4-c14c-2d819d39c7ae",
        "colab": {
          "base_uri": "https://localhost:8080/",
          "height": 34
        }
      },
      "source": [
        "scaler = StandardScaler()\n",
        "x = scaler.fit_transform(x)\n",
        "x.shape"
      ],
      "execution_count": 123,
      "outputs": [
        {
          "output_type": "execute_result",
          "data": {
            "text/plain": [
              "(2685, 21)"
            ]
          },
          "metadata": {
            "tags": []
          },
          "execution_count": 123
        }
      ]
    },
    {
      "cell_type": "code",
      "metadata": {
        "id": "Inh9M44WzedD",
        "colab_type": "code",
        "colab": {}
      },
      "source": [
        "activ_func = 'tanh'  \n",
        "loss = 'binary_crossentropy'                  \n",
        "optimizer=\"adam\"              \n",
        "dropout = 0.05                 "
      ],
      "execution_count": 0,
      "outputs": []
    },
    {
      "cell_type": "code",
      "metadata": {
        "id": "JYc4RyWut9uY",
        "colab_type": "code",
        "outputId": "6ef53f19-a30f-4002-e9aa-44cda1c2e1e2",
        "colab": {
          "base_uri": "https://localhost:8080/",
          "height": 238
        }
      },
      "source": [
        "model = Sequential()\n",
        "model.add(Dense(256,input_dim=np.shape(x)[1],activation=activ_func,kernel_regularizer=regularizers.l2(0.001)))\n",
        "model.add(Dense(128,activation=activ_func))\n",
        "model.add(Dense(units=1,activation = 'sigmoid'))\n",
        "model.compile(loss=loss, optimizer=optimizer, metrics=['accuracy'])\n",
        "model.summary()"
      ],
      "execution_count": 125,
      "outputs": [
        {
          "output_type": "stream",
          "text": [
            "_________________________________________________________________\n",
            "Layer (type)                 Output Shape              Param #   \n",
            "=================================================================\n",
            "dense_4 (Dense)              (None, 256)               5632      \n",
            "_________________________________________________________________\n",
            "dense_5 (Dense)              (None, 128)               32896     \n",
            "_________________________________________________________________\n",
            "dense_6 (Dense)              (None, 1)                 129       \n",
            "=================================================================\n",
            "Total params: 38,657\n",
            "Trainable params: 38,657\n",
            "Non-trainable params: 0\n",
            "_________________________________________________________________\n"
          ],
          "name": "stdout"
        }
      ]
    },
    {
      "cell_type": "code",
      "metadata": {
        "id": "7KiDvJXGvZR4",
        "colab_type": "code",
        "outputId": "a9886dcd-6e49-4fbd-9f65-dabf04444fb5",
        "colab": {
          "base_uri": "https://localhost:8080/",
          "height": 68
        }
      },
      "source": [
        "model.fit(np.array(x), np.array(y), epochs=1, batch_size=128, verbose=1)"
      ],
      "execution_count": 129,
      "outputs": [
        {
          "output_type": "stream",
          "text": [
            "Epoch 1/1\n",
            "2685/2685 [==============================] - 0s 70us/step - loss: 0.0436 - acc: 1.0000\n"
          ],
          "name": "stdout"
        },
        {
          "output_type": "execute_result",
          "data": {
            "text/plain": [
              "<keras.callbacks.History at 0x7f8900081860>"
            ]
          },
          "metadata": {
            "tags": []
          },
          "execution_count": 129
        }
      ]
    },
    {
      "cell_type": "code",
      "metadata": {
        "id": "o_ASX3FrSUcR",
        "colab_type": "code",
        "outputId": "a3accf12-37a7-4eca-cd00-3951044ad8b6",
        "colab": {
          "base_uri": "https://localhost:8080/",
          "height": 170
        }
      },
      "source": [
        "valid = pd.read_csv(\"/content/gdrive/My Drive/Colab Notebooks/binary_classification/validation.csv\")\n",
        "valid = Clean(valid)\n",
        "valid = Prepare(valid)\n",
        "print(valid.head())\n",
        "valid_y = valid['target']\n",
        "valid_x = valid.drop(['target'],axis=1)\n",
        "valid_x.shape,valid_y.shape"
      ],
      "execution_count": 127,
      "outputs": [
        {
          "output_type": "stream",
          "text": [
            "   v0  v1  v2  v3           v4  v5  ...  v16  v17        v18  v19  v20  target\n",
            "0   0  32  33   0     75.00000   0  ...  420    0  4200000.0    0    1       0\n",
            "1   0  23  58   0    179.00000   0  ...  136    1  1360000.0    0    0       0\n",
            "2   0  36  42   7      0.00005   1  ...  240    3  2400000.0    0    1       0\n",
            "3   0  18  42   0  10415.00000   1  ...  120  375  1200000.0    0    0       0\n",
            "4   0  24   5   0  13335.00000   1  ...  120  475  1200000.0    1    1       0\n",
            "\n",
            "[5 rows x 22 columns]\n"
          ],
          "name": "stdout"
        },
        {
          "output_type": "execute_result",
          "data": {
            "text/plain": [
              "((155, 21), (155,))"
            ]
          },
          "metadata": {
            "tags": []
          },
          "execution_count": 127
        }
      ]
    },
    {
      "cell_type": "code",
      "metadata": {
        "id": "7Sbv4qhLU8Y5",
        "colab_type": "code",
        "outputId": "1a7c363e-7f03-4ced-b7d2-e84a6f28210b",
        "colab": {
          "base_uri": "https://localhost:8080/",
          "height": 34
        }
      },
      "source": [
        "from sklearn.metrics import precision_recall_fscore_support\n",
        "y_pred = model.predict_classes(valid_x)\n",
        "result = precision_recall_fscore_support(valid_y, y_pred,average='binary')\n",
        "print('precision=',result[0],'recall=',result[1], 'f1score=',result[2])"
      ],
      "execution_count": 130,
      "outputs": [
        {
          "output_type": "stream",
          "text": [
            "precision= 0.45806451612903226 recall= 1.0 f1score= 0.6283185840707964\n"
          ],
          "name": "stdout"
        }
      ]
    }
  ]
}