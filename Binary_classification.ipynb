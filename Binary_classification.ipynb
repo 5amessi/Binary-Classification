{
  "nbformat": 4,
  "nbformat_minor": 0,
  "metadata": {
    "colab": {
      "name": "Binary classification.ipynb",
      "version": "0.3.2",
      "provenance": [],
      "collapsed_sections": []
    },
    "kernelspec": {
      "name": "python3",
      "display_name": "Python 3"
    },
    "accelerator": "GPU"
  },
  "cells": [
    {
      "cell_type": "code",
      "metadata": {
        "id": "gho7i50qtAlD",
        "colab_type": "code",
        "colab": {}
      },
      "source": [
        "from google.colab import drive\n",
        "drive.mount('/content/gdrive')"
      ],
      "execution_count": 0,
      "outputs": []
    },
    {
      "cell_type": "code",
      "metadata": {
        "id": "paj747eBLLTq",
        "colab_type": "code",
        "colab": {}
      },
      "source": [
        "import math\n",
        "import numpy\n",
        "import matplotlib.pyplot as plt\n",
        "from pandas import read_csv\n",
        "from keras.models import Sequential\n",
        "from keras import regularizers\n",
        "from keras.layers import *\n",
        "from sklearn.preprocessing import MinMaxScaler\n",
        "from sklearn.metrics import mean_squared_error\n",
        "from keras.optimizers import RMSprop\n",
        "from keras.initializers import glorot_uniform, glorot_normal, RandomUniform\n",
        "import sys\n",
        "import pandas as pd\n",
        "import numpy as np\n",
        "from sklearn.preprocessing import MinMaxScaler, StandardScaler\n",
        "from datetime import timedelta\n",
        "from sklearn.externals import joblib \n",
        "import datetime"
      ],
      "execution_count": 0,
      "outputs": []
    },
    {
      "cell_type": "code",
      "metadata": {
        "id": "Hqo62vqzxzWg",
        "colab_type": "code",
        "colab": {}
      },
      "source": [
        "def Clean(data,valid = False):\n",
        "  data = data.values\n",
        "  new_data = []\n",
        "  for i in range(len(data)):\n",
        "    if(str(data[i][0]) == str(1e400*0)):\n",
        "      pass\n",
        "    else:\n",
        "      new_line = list(map(str,data[i][0].split(';')))\n",
        "      new_data.append(new_line)\n",
        "\n",
        "  data = pd.DataFrame(new_data,columns=['v0','v1','v2','v3','v4','v5','v6','v7','v8','v9','v10','target'])\n",
        "  data.to_csv(\"data.csv\",index=False)\n",
        "  data = pd.read_csv(\"/content/data.csv\")\n",
        "\n",
        "  return data\n"
      ],
      "execution_count": 0,
      "outputs": []
    },
    {
      "cell_type": "code",
      "metadata": {
        "id": "gxYFJ2jhjss9",
        "colab_type": "code",
        "colab": {
          "base_uri": "https://localhost:8080/",
          "height": 204
        },
        "outputId": "419dbadb-9ef7-46ad-a20b-5f0964045fdc"
      },
      "source": [
        "data = pd.read_csv(\"/content/gdrive/My Drive/Colab Notebooks/binary_classification/training.csv\")\n",
        "data = Clean(data)\n",
        "data.head()\n"
      ],
      "execution_count": 111,
      "outputs": [
        {
          "output_type": "execute_result",
          "data": {
            "text/html": [
              "<div>\n",
              "<style scoped>\n",
              "    .dataframe tbody tr th:only-of-type {\n",
              "        vertical-align: middle;\n",
              "    }\n",
              "\n",
              "    .dataframe tbody tr th {\n",
              "        vertical-align: top;\n",
              "    }\n",
              "\n",
              "    .dataframe thead th {\n",
              "        text-align: right;\n",
              "    }\n",
              "</style>\n",
              "<table border=\"1\" class=\"dataframe\">\n",
              "  <thead>\n",
              "    <tr style=\"text-align: right;\">\n",
              "      <th></th>\n",
              "      <th>v0</th>\n",
              "      <th>v1</th>\n",
              "      <th>v2</th>\n",
              "      <th>v3</th>\n",
              "      <th>v4</th>\n",
              "      <th>v5</th>\n",
              "      <th>v6</th>\n",
              "      <th>v7</th>\n",
              "      <th>v8</th>\n",
              "      <th>v9</th>\n",
              "      <th>v10</th>\n",
              "      <th>target</th>\n",
              "    </tr>\n",
              "  </thead>\n",
              "  <tbody>\n",
              "    <tr>\n",
              "      <th>0</th>\n",
              "      <td>75</td>\n",
              "      <td>\"f\"</td>\n",
              "      <td>\"t\"</td>\n",
              "      <td>1</td>\n",
              "      <td>\"t\"</td>\n",
              "      <td>\"g\"</td>\n",
              "      <td>80.0</td>\n",
              "      <td>5</td>\n",
              "      <td>800000.0</td>\n",
              "      <td>\"t\"</td>\n",
              "      <td>0</td>\n",
              "      <td>\"no.\"</td>\n",
              "    </tr>\n",
              "    <tr>\n",
              "      <th>1</th>\n",
              "      <td>29</td>\n",
              "      <td>\"f\"</td>\n",
              "      <td>\"f\"</td>\n",
              "      <td>0</td>\n",
              "      <td>\"f\"</td>\n",
              "      <td>\"s\"</td>\n",
              "      <td>200.0</td>\n",
              "      <td>0</td>\n",
              "      <td>2000000.0</td>\n",
              "      <td>NaN</td>\n",
              "      <td>0</td>\n",
              "      <td>\"no.\"</td>\n",
              "    </tr>\n",
              "    <tr>\n",
              "      <th>2</th>\n",
              "      <td>335</td>\n",
              "      <td>\"f\"</td>\n",
              "      <td>\"f\"</td>\n",
              "      <td>0</td>\n",
              "      <td>\"f\"</td>\n",
              "      <td>\"g\"</td>\n",
              "      <td>0.0</td>\n",
              "      <td>120</td>\n",
              "      <td>0.0</td>\n",
              "      <td>NaN</td>\n",
              "      <td>0</td>\n",
              "      <td>\"no.\"</td>\n",
              "    </tr>\n",
              "    <tr>\n",
              "      <th>3</th>\n",
              "      <td>5</td>\n",
              "      <td>\"f\"</td>\n",
              "      <td>\"f\"</td>\n",
              "      <td>0</td>\n",
              "      <td>\"t\"</td>\n",
              "      <td>\"g\"</td>\n",
              "      <td>232.0</td>\n",
              "      <td>0</td>\n",
              "      <td>2320000.0</td>\n",
              "      <td>\"f\"</td>\n",
              "      <td>0</td>\n",
              "      <td>\"no.\"</td>\n",
              "    </tr>\n",
              "    <tr>\n",
              "      <th>4</th>\n",
              "      <td>5</td>\n",
              "      <td>\"f\"</td>\n",
              "      <td>\"f\"</td>\n",
              "      <td>0</td>\n",
              "      <td>\"t\"</td>\n",
              "      <td>\"g\"</td>\n",
              "      <td>160.0</td>\n",
              "      <td>0</td>\n",
              "      <td>1600000.0</td>\n",
              "      <td>\"f\"</td>\n",
              "      <td>0</td>\n",
              "      <td>\"no.\"</td>\n",
              "    </tr>\n",
              "  </tbody>\n",
              "</table>\n",
              "</div>"
            ],
            "text/plain": [
              "    v0   v1   v2  v3   v4   v5     v6   v7         v8   v9  v10 target\n",
              "0   75  \"f\"  \"t\"   1  \"t\"  \"g\"   80.0    5   800000.0  \"t\"    0  \"no.\"\n",
              "1   29  \"f\"  \"f\"   0  \"f\"  \"s\"  200.0    0  2000000.0  NaN    0  \"no.\"\n",
              "2  335  \"f\"  \"f\"   0  \"f\"  \"g\"    0.0  120        0.0  NaN    0  \"no.\"\n",
              "3    5  \"f\"  \"f\"   0  \"t\"  \"g\"  232.0    0  2320000.0  \"f\"    0  \"no.\"\n",
              "4    5  \"f\"  \"f\"   0  \"t\"  \"g\"  160.0    0  1600000.0  \"f\"    0  \"no.\""
            ]
          },
          "metadata": {
            "tags": []
          },
          "execution_count": 111
        }
      ]
    },
    {
      "cell_type": "code",
      "metadata": {
        "id": "b9I2RHO4iZzQ",
        "colab_type": "code",
        "outputId": "46d21184-3f93-4c6d-e730-1194a2bc4be7",
        "colab": {
          "base_uri": "https://localhost:8080/",
          "height": 136
        }
      },
      "source": [
        "for i in data:\n",
        "  if (len(data[i].unique()) < 5):\n",
        "    print(i,data[i].unique())"
      ],
      "execution_count": 113,
      "outputs": [
        {
          "output_type": "stream",
          "text": [
            "v1 ['\"f\"' '\"t\"']\n",
            "v2 ['\"t\"' '\"f\"']\n",
            "v4 ['\"t\"' '\"f\"']\n",
            "v5 ['\"g\"' '\"s\"' '\"p\"']\n",
            "v9 ['\"t\"' nan '\"f\"']\n",
            "v10 [0 1]\n",
            "target ['\"no.\"' '\"yes.\"']\n"
          ],
          "name": "stdout"
        }
      ]
    },
    {
      "cell_type": "code",
      "metadata": {
        "id": "g8Z5d9MTJpSm",
        "colab_type": "code",
        "colab": {}
      },
      "source": [
        "def Prepare(data):\n",
        "  data['v9'] = data['v9'].fillna(2)\n",
        "  data['v6'] = data['v6'].fillna(0)\n",
        "  data['v8'] = data['v8'].fillna(0)\n",
        "  \n",
        "  for i in range(len(data['v1'].unique())):\n",
        "    data['v1'] = data['v1'].replace(data['v1'].unique()[i],i)\n",
        "  \n",
        "  for i in range(len(data['v2'].unique())):\n",
        "    data['v2'] = data['v2'].replace(data['v2'].unique()[i],i)\n",
        "\n",
        "  for i in range(len(data['v4'].unique())):\n",
        "    data['v4'] = data['v4'].replace(data['v4'].unique()[i],i)\n",
        "\n",
        "  for i in range(len(data['v5'].unique())):\n",
        "    data['v5'] = data['v5'].replace(data['v5'].unique()[i],i)\n",
        "\n",
        "  for i in range(len(data['v9'].unique())):\n",
        "    data['v9'] = data['v9'].replace(data['v9'].unique()[i],i)\n",
        "\n",
        "  for i in range(len(data['target'].unique())):\n",
        "    data['target'] = data['target'].replace(data['target'].unique()[i],i)\n",
        "  \n",
        "  return data"
      ],
      "execution_count": 0,
      "outputs": []
    },
    {
      "cell_type": "code",
      "metadata": {
        "id": "-MDFkGN3LCwv",
        "colab_type": "code",
        "colab": {}
      },
      "source": [
        "data = Prepare(data)"
      ],
      "execution_count": 0,
      "outputs": []
    },
    {
      "cell_type": "code",
      "metadata": {
        "id": "-kkvzmYXnFel",
        "colab_type": "code",
        "outputId": "832faa6c-d46f-426b-98e1-cdcc8ac81268",
        "colab": {
          "base_uri": "https://localhost:8080/",
          "height": 34
        }
      },
      "source": [
        "y = data['target']\n",
        "x = data.drop(['target'],axis=1)\n",
        "x.shape,y.shape"
      ],
      "execution_count": 116,
      "outputs": [
        {
          "output_type": "execute_result",
          "data": {
            "text/plain": [
              "((2009, 11), (2009,))"
            ]
          },
          "metadata": {
            "tags": []
          },
          "execution_count": 116
        }
      ]
    },
    {
      "cell_type": "code",
      "metadata": {
        "colab_type": "code",
        "id": "IeVERE-inO9w",
        "outputId": "f67610fd-aa46-411f-efe3-3dd60959d42a",
        "colab": {
          "base_uri": "https://localhost:8080/",
          "height": 34
        }
      },
      "source": [
        "scaler = StandardScaler()\n",
        "x = scaler.fit_transform(x)\n",
        "x.shape"
      ],
      "execution_count": 117,
      "outputs": [
        {
          "output_type": "execute_result",
          "data": {
            "text/plain": [
              "(2009, 11)"
            ]
          },
          "metadata": {
            "tags": []
          },
          "execution_count": 117
        }
      ]
    },
    {
      "cell_type": "code",
      "metadata": {
        "id": "Inh9M44WzedD",
        "colab_type": "code",
        "colab": {}
      },
      "source": [
        "neurons = 512                 \n",
        "activ_func = 'tanh'  \n",
        "loss = 'binary_crossentropy'                  \n",
        "optimizer=\"adam\"              \n",
        "dropout = 0.05                 "
      ],
      "execution_count": 0,
      "outputs": []
    },
    {
      "cell_type": "code",
      "metadata": {
        "id": "JYc4RyWut9uY",
        "colab_type": "code",
        "colab": {
          "base_uri": "https://localhost:8080/",
          "height": 238
        },
        "outputId": "573a8716-5b9c-4c11-dc46-459aaa7932ae"
      },
      "source": [
        "model = Sequential()\n",
        "model.add(Dense(512,input_dim=np.shape(x)[1],activation=activ_func))\n",
        "model.add(Dense(256,activation=activ_func))\n",
        "model.add(Dense(units=1,activation = 'sigmoid'))\n",
        "model.compile(loss=loss, optimizer=optimizer, metrics=['accuracy'])\n",
        "model.summary()"
      ],
      "execution_count": 119,
      "outputs": [
        {
          "output_type": "stream",
          "text": [
            "_________________________________________________________________\n",
            "Layer (type)                 Output Shape              Param #   \n",
            "=================================================================\n",
            "dense_4 (Dense)              (None, 512)               6144      \n",
            "_________________________________________________________________\n",
            "dense_5 (Dense)              (None, 256)               131328    \n",
            "_________________________________________________________________\n",
            "dense_6 (Dense)              (None, 1)                 257       \n",
            "=================================================================\n",
            "Total params: 137,729\n",
            "Trainable params: 137,729\n",
            "Non-trainable params: 0\n",
            "_________________________________________________________________\n"
          ],
          "name": "stdout"
        }
      ]
    },
    {
      "cell_type": "code",
      "metadata": {
        "id": "7KiDvJXGvZR4",
        "colab_type": "code",
        "outputId": "db1e5a67-3d9e-470c-c69a-a205ba31ddd6",
        "colab": {
          "base_uri": "https://localhost:8080/",
          "height": 102
        }
      },
      "source": [
        "model.fit(np.array(x), np.array(y), epochs=2, batch_size=32, verbose=1)"
      ],
      "execution_count": 120,
      "outputs": [
        {
          "output_type": "stream",
          "text": [
            "Epoch 1/2\n",
            "2009/2009 [==============================] - 1s 292us/step - loss: 0.0894 - acc: 0.9701\n",
            "Epoch 2/2\n",
            "2009/2009 [==============================] - 0s 115us/step - loss: 5.4795e-04 - acc: 1.0000\n"
          ],
          "name": "stdout"
        },
        {
          "output_type": "execute_result",
          "data": {
            "text/plain": [
              "<keras.callbacks.History at 0x7ff88c7027f0>"
            ]
          },
          "metadata": {
            "tags": []
          },
          "execution_count": 120
        }
      ]
    },
    {
      "cell_type": "code",
      "metadata": {
        "id": "o_ASX3FrSUcR",
        "colab_type": "code",
        "colab": {
          "base_uri": "https://localhost:8080/",
          "height": 136
        },
        "outputId": "7b9b56c2-3e45-408f-b05b-cd62e725a0a9"
      },
      "source": [
        "valid = pd.read_csv(\"/content/gdrive/My Drive/Colab Notebooks/binary_classification/validation.csv\")\n",
        "valid = Clean(valid)\n",
        "valid = Prepare(valid)\n",
        "print(valid.head())\n",
        "valid_y = data['target']\n",
        "valid_x = data.drop(['target'],axis=1)\n",
        "valid_x.shape,valid_y.shape"
      ],
      "execution_count": 124,
      "outputs": [
        {
          "output_type": "stream",
          "text": [
            "    v0  v1  v2  v3  v4  v5   v6   v7         v8  v9  v10  target\n",
            "0  585   0   0   0   0   0  420    0  4200000.0   0    1       0\n",
            "1   54   1   0   0   0   1  136    1  1360000.0   0    0       0\n",
            "2  585   1   0   0   1   1  240    3  2400000.0   0    1       0\n",
            "3  125   0   0   0   1   1  120  375  1200000.0   0    0       0\n",
            "4    4   1   0   0   0   1  120  475  1200000.0   1    1       0\n"
          ],
          "name": "stdout"
        },
        {
          "output_type": "execute_result",
          "data": {
            "text/plain": [
              "((2009, 11), (2009,))"
            ]
          },
          "metadata": {
            "tags": []
          },
          "execution_count": 124
        }
      ]
    },
    {
      "cell_type": "code",
      "metadata": {
        "id": "7Sbv4qhLU8Y5",
        "colab_type": "code",
        "colab": {
          "base_uri": "https://localhost:8080/",
          "height": 34
        },
        "outputId": "fab56359-1215-4cd9-d057-d3006b8a45b9"
      },
      "source": [
        "from sklearn.metrics import precision_recall_fscore_support\n",
        "y_pred = model.predict_classes(valid_x)\n",
        "result = precision_recall_fscore_support(valid_y, y_pred,average='binary')\n",
        "print('precision=',result[0],'recall=',result[1], 'f1score=',result[2])"
      ],
      "execution_count": 123,
      "outputs": [
        {
          "output_type": "stream",
          "text": [
            "precision= 0.9238427078148332 recall= 1.0 f1score= 0.9604139715394566\n"
          ],
          "name": "stdout"
        }
      ]
    }
  ]
}